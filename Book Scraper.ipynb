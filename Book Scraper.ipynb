{
 "cells": [
  {
   "cell_type": "code",
   "execution_count": 40,
   "id": "0415ba05",
   "metadata": {},
   "outputs": [],
   "source": [
    "import requests\n",
    "from bs4 import BeautifulSoup"
   ]
  },
  {
   "cell_type": "markdown",
   "id": "016bb03f",
   "metadata": {},
   "source": [
    "# Book Scraping from Home Page :"
   ]
  },
  {
   "cell_type": "code",
   "execution_count": 41,
   "id": "8256f6e8",
   "metadata": {},
   "outputs": [],
   "source": [
    "link=\"https://books.toscrape.com\""
   ]
  },
  {
   "cell_type": "code",
   "execution_count": 42,
   "id": "4ba10eec",
   "metadata": {},
   "outputs": [],
   "source": [
    "res=requests.get(link)"
   ]
  },
  {
   "cell_type": "code",
   "execution_count": 43,
   "id": "9ab1e8f4",
   "metadata": {},
   "outputs": [],
   "source": [
    "soup=BeautifulSoup(res.text,'html.parser')"
   ]
  },
  {
   "cell_type": "code",
   "execution_count": 44,
   "id": "46475fef",
   "metadata": {},
   "outputs": [
    {
     "name": "stdout",
     "output_type": "stream",
     "text": [
      "--------------------------------------------------------------------------------\n",
      "catalogue/a-light-in-the-attic_1000/index.html | A Light in the Attic | media/cache/2c/da/2cdad67c44b002e7ead0cc35693c0e8b.jpg | Three\n"
     ]
    }
   ],
   "source": [
    "for sp in soup.find_all('li',class_='col-xs-6 col-sm-4 col-md-3 col-lg-3'):\n",
    "    print(\"--\"*40)\n",
    "    link=sp.find_all('a')[-1].get('href')\n",
    "    title=sp.find_all('a')[-1].get('title')\n",
    "    imgsrc=sp.find('img').get('src')\n",
    "    rating=sp.find('p').get('class')[1]\n",
    "    print(link,\"|\" , title,\"|\",imgsrc, \"|\",rating)\n",
    "    break\n",
    "    \n",
    "    \n",
    "    "
   ]
  },
  {
   "cell_type": "code",
   "execution_count": 45,
   "id": "af031b78",
   "metadata": {},
   "outputs": [],
   "source": [
    "data=[]\n",
    "for sp in soup.find_all('li',class_='col-xs-6 col-sm-4 col-md-3 col-lg-3'):\n",
    "    \n",
    "    booklink=\"https://books.toscrape.com/\"+sp.find_all('a')[-1].get('href')\n",
    "    title=sp.find_all('a')[-1].get('title')\n",
    "    imgsrc=\"https://books.toscrape.com/\"+sp.find('img').get('src')\n",
    "    rating=sp.find('p').get('class')[1]\n",
    "    price=sp.find('p',class_=\"price_color\").text\n",
    "    stock =sp.find('p',class_='instock availability').text.strip()\n",
    "    data.append([booklink,title,imgsrc,rating,price,stock])"
   ]
  },
  {
   "cell_type": "code",
   "execution_count": 51,
   "id": "d412cf99",
   "metadata": {},
   "outputs": [],
   "source": [
    "import pandas as pd \n",
    "df=pd.DataFrame(data,columns=[\"booklink\",\"title\",\"imglink\",\"rating\",\"price\",\"stock\"])\n",
    "df.to_csv('bookscrap1.csv')"
   ]
  },
  {
   "cell_type": "markdown",
   "id": "b7fbf150",
   "metadata": {},
   "source": [
    "# From Multiple Pages:"
   ]
  },
  {
   "cell_type": "code",
   "execution_count": 80,
   "id": "39aff92b",
   "metadata": {},
   "outputs": [
    {
     "name": "stdout",
     "output_type": "stream",
     "text": [
      "https://books.toscrape.com/catalogue/a-light-in-the-attic_1000/index.html\n"
     ]
    }
   ],
   "source": [
    "import pandas as pd\n",
    "df=pd.read_csv('bookscrap1.csv')\n",
    "df.head()\n",
    "print(df['booklink'][0])"
   ]
  },
  {
   "cell_type": "code",
   "execution_count": 57,
   "id": "4ea5fd88",
   "metadata": {},
   "outputs": [],
   "source": [
    "import requests\n",
    "from bs4 import BeautifulSoup\n",
    "from tqdm import tqdm"
   ]
  },
  {
   "cell_type": "code",
   "execution_count": 83,
   "id": "6d738799",
   "metadata": {},
   "outputs": [
    {
     "name": "stderr",
     "output_type": "stream",
     "text": [
      "100%|██████████| 50/50 [01:19<00:00,  1.58s/it]\n"
     ]
    }
   ],
   "source": [
    "d=[]\n",
    "for i in tqdm(range(1,51)):\n",
    "    link='https://books.toscrape.com/catalogue/page-'+str(i)+'.html'\n",
    "    res=requests.get(link)\n",
    "    soup=BeautifulSoup(res.text,'html.parser')\n",
    "    for sp in soup.find_all('li',class_='col-xs-6 col-sm-4 col-md-3 col-lg-3'):\n",
    "        booklink=\"https://books.toscrape.com/catalogue/\"+sp.find_all('a')[-1].get('href')\n",
    "        title=sp.find_all('a')[-1].get('title')\n",
    "        imgsrc=\"https://books.toscrape.com/\"+sp.find('img').get('src')\n",
    "        rating=sp.find('p').get('class')[1]\n",
    "        price=sp.find('p',class_=\"price_color\").text\n",
    "        stock =sp.find('p',class_='instock availability').text.strip()\n",
    "        d.append([booklink,title,imgsrc,rating,price,stock])\n",
    "    "
   ]
  },
  {
   "cell_type": "code",
   "execution_count": 90,
   "id": "f41aac9b",
   "metadata": {},
   "outputs": [
    {
     "data": {
      "text/plain": [
       "['https://books.toscrape.com/catalogue/1000-places-to-see-before-you-die_1/index.html',\n",
       " '1,000 Places to See Before You Die',\n",
       " 'https://books.toscrape.com/../media/cache/d7/0f/d70f7edd92705c45a82118c3ff6c299d.jpg',\n",
       " 'Five',\n",
       " 'Â£26.08',\n",
       " 'In stock']"
      ]
     },
     "execution_count": 90,
     "metadata": {},
     "output_type": "execute_result"
    }
   ],
   "source": [
    "len(d)\n",
    "d[999]"
   ]
  },
  {
   "cell_type": "code",
   "execution_count": 187,
   "id": "07bf7165",
   "metadata": {},
   "outputs": [],
   "source": [
    "data=pd.DataFrame(d,columns=['booklink', 'title', 'imglink', 'rating', 'price','stock'])"
   ]
  },
  {
   "cell_type": "code",
   "execution_count": 188,
   "id": "54b66d2e",
   "metadata": {},
   "outputs": [
    {
     "data": {
      "text/html": [
       "<div>\n",
       "<style scoped>\n",
       "    .dataframe tbody tr th:only-of-type {\n",
       "        vertical-align: middle;\n",
       "    }\n",
       "\n",
       "    .dataframe tbody tr th {\n",
       "        vertical-align: top;\n",
       "    }\n",
       "\n",
       "    .dataframe thead th {\n",
       "        text-align: right;\n",
       "    }\n",
       "</style>\n",
       "<table border=\"1\" class=\"dataframe\">\n",
       "  <thead>\n",
       "    <tr style=\"text-align: right;\">\n",
       "      <th></th>\n",
       "      <th>booklink</th>\n",
       "      <th>title</th>\n",
       "      <th>imglink</th>\n",
       "      <th>rating</th>\n",
       "      <th>price</th>\n",
       "      <th>stock</th>\n",
       "    </tr>\n",
       "  </thead>\n",
       "  <tbody>\n",
       "    <tr>\n",
       "      <th>995</th>\n",
       "      <td>https://books.toscrape.com/catalogue/alice-in-...</td>\n",
       "      <td>Alice in Wonderland (Alice's Adventures in Won...</td>\n",
       "      <td>https://books.toscrape.com/../media/cache/96/e...</td>\n",
       "      <td>One</td>\n",
       "      <td>Â£55.53</td>\n",
       "      <td>In stock</td>\n",
       "    </tr>\n",
       "    <tr>\n",
       "      <th>996</th>\n",
       "      <td>https://books.toscrape.com/catalogue/ajin-demi...</td>\n",
       "      <td>Ajin: Demi-Human, Volume 1 (Ajin: Demi-Human #1)</td>\n",
       "      <td>https://books.toscrape.com/../media/cache/09/7...</td>\n",
       "      <td>Four</td>\n",
       "      <td>Â£57.06</td>\n",
       "      <td>In stock</td>\n",
       "    </tr>\n",
       "    <tr>\n",
       "      <th>997</th>\n",
       "      <td>https://books.toscrape.com/catalogue/a-spys-de...</td>\n",
       "      <td>A Spy's Devotion (The Regency Spies of London #1)</td>\n",
       "      <td>https://books.toscrape.com/../media/cache/1b/5...</td>\n",
       "      <td>Five</td>\n",
       "      <td>Â£16.97</td>\n",
       "      <td>In stock</td>\n",
       "    </tr>\n",
       "    <tr>\n",
       "      <th>998</th>\n",
       "      <td>https://books.toscrape.com/catalogue/1st-to-di...</td>\n",
       "      <td>1st to Die (Women's Murder Club #1)</td>\n",
       "      <td>https://books.toscrape.com/../media/cache/2b/4...</td>\n",
       "      <td>One</td>\n",
       "      <td>Â£53.98</td>\n",
       "      <td>In stock</td>\n",
       "    </tr>\n",
       "    <tr>\n",
       "      <th>999</th>\n",
       "      <td>https://books.toscrape.com/catalogue/1000-plac...</td>\n",
       "      <td>1,000 Places to See Before You Die</td>\n",
       "      <td>https://books.toscrape.com/../media/cache/d7/0...</td>\n",
       "      <td>Five</td>\n",
       "      <td>Â£26.08</td>\n",
       "      <td>In stock</td>\n",
       "    </tr>\n",
       "  </tbody>\n",
       "</table>\n",
       "</div>"
      ],
      "text/plain": [
       "                                              booklink  \\\n",
       "995  https://books.toscrape.com/catalogue/alice-in-...   \n",
       "996  https://books.toscrape.com/catalogue/ajin-demi...   \n",
       "997  https://books.toscrape.com/catalogue/a-spys-de...   \n",
       "998  https://books.toscrape.com/catalogue/1st-to-di...   \n",
       "999  https://books.toscrape.com/catalogue/1000-plac...   \n",
       "\n",
       "                                                 title  \\\n",
       "995  Alice in Wonderland (Alice's Adventures in Won...   \n",
       "996   Ajin: Demi-Human, Volume 1 (Ajin: Demi-Human #1)   \n",
       "997  A Spy's Devotion (The Regency Spies of London #1)   \n",
       "998                1st to Die (Women's Murder Club #1)   \n",
       "999                 1,000 Places to See Before You Die   \n",
       "\n",
       "                                               imglink rating    price  \\\n",
       "995  https://books.toscrape.com/../media/cache/96/e...    One  Â£55.53   \n",
       "996  https://books.toscrape.com/../media/cache/09/7...   Four  Â£57.06   \n",
       "997  https://books.toscrape.com/../media/cache/1b/5...   Five  Â£16.97   \n",
       "998  https://books.toscrape.com/../media/cache/2b/4...    One  Â£53.98   \n",
       "999  https://books.toscrape.com/../media/cache/d7/0...   Five  Â£26.08   \n",
       "\n",
       "        stock  \n",
       "995  In stock  \n",
       "996  In stock  \n",
       "997  In stock  \n",
       "998  In stock  \n",
       "999  In stock  "
      ]
     },
     "execution_count": 188,
     "metadata": {},
     "output_type": "execute_result"
    }
   ],
   "source": [
    "data.tail()"
   ]
  },
  {
   "cell_type": "code",
   "execution_count": 191,
   "id": "7394a3cb",
   "metadata": {},
   "outputs": [],
   "source": [
    "data.to_csv('bookscrapper2.csv',index=False)"
   ]
  },
  {
   "cell_type": "markdown",
   "id": "358e9695",
   "metadata": {},
   "source": [
    "# Book Individual Scrapper : "
   ]
  },
  {
   "cell_type": "code",
   "execution_count": 199,
   "id": "ba649179",
   "metadata": {},
   "outputs": [
    {
     "data": {
      "text/html": [
       "<div>\n",
       "<style scoped>\n",
       "    .dataframe tbody tr th:only-of-type {\n",
       "        vertical-align: middle;\n",
       "    }\n",
       "\n",
       "    .dataframe tbody tr th {\n",
       "        vertical-align: top;\n",
       "    }\n",
       "\n",
       "    .dataframe thead th {\n",
       "        text-align: right;\n",
       "    }\n",
       "</style>\n",
       "<table border=\"1\" class=\"dataframe\">\n",
       "  <thead>\n",
       "    <tr style=\"text-align: right;\">\n",
       "      <th></th>\n",
       "      <th>Unnamed: 0</th>\n",
       "      <th>booklink</th>\n",
       "      <th>title</th>\n",
       "      <th>imglink</th>\n",
       "      <th>rating</th>\n",
       "      <th>price</th>\n",
       "      <th>stock</th>\n",
       "    </tr>\n",
       "  </thead>\n",
       "  <tbody>\n",
       "    <tr>\n",
       "      <th>0</th>\n",
       "      <td>0</td>\n",
       "      <td>https://books.toscrape.com/catalogue/a-light-i...</td>\n",
       "      <td>A Light in the Attic</td>\n",
       "      <td>https://books.toscrape.com/../media/cache/2c/d...</td>\n",
       "      <td>Three</td>\n",
       "      <td>Â£51.77</td>\n",
       "      <td>In stock</td>\n",
       "    </tr>\n",
       "    <tr>\n",
       "      <th>1</th>\n",
       "      <td>1</td>\n",
       "      <td>https://books.toscrape.com/catalogue/tipping-t...</td>\n",
       "      <td>Tipping the Velvet</td>\n",
       "      <td>https://books.toscrape.com/../media/cache/26/0...</td>\n",
       "      <td>One</td>\n",
       "      <td>Â£53.74</td>\n",
       "      <td>In stock</td>\n",
       "    </tr>\n",
       "    <tr>\n",
       "      <th>2</th>\n",
       "      <td>2</td>\n",
       "      <td>https://books.toscrape.com/catalogue/soumissio...</td>\n",
       "      <td>Soumission</td>\n",
       "      <td>https://books.toscrape.com/../media/cache/3e/e...</td>\n",
       "      <td>One</td>\n",
       "      <td>Â£50.10</td>\n",
       "      <td>In stock</td>\n",
       "    </tr>\n",
       "    <tr>\n",
       "      <th>3</th>\n",
       "      <td>3</td>\n",
       "      <td>https://books.toscrape.com/catalogue/sharp-obj...</td>\n",
       "      <td>Sharp Objects</td>\n",
       "      <td>https://books.toscrape.com/../media/cache/32/5...</td>\n",
       "      <td>Four</td>\n",
       "      <td>Â£47.82</td>\n",
       "      <td>In stock</td>\n",
       "    </tr>\n",
       "    <tr>\n",
       "      <th>4</th>\n",
       "      <td>4</td>\n",
       "      <td>https://books.toscrape.com/catalogue/sapiens-a...</td>\n",
       "      <td>Sapiens: A Brief History of Humankind</td>\n",
       "      <td>https://books.toscrape.com/../media/cache/be/a...</td>\n",
       "      <td>Five</td>\n",
       "      <td>Â£54.23</td>\n",
       "      <td>In stock</td>\n",
       "    </tr>\n",
       "  </tbody>\n",
       "</table>\n",
       "</div>"
      ],
      "text/plain": [
       "   Unnamed: 0                                           booklink  \\\n",
       "0           0  https://books.toscrape.com/catalogue/a-light-i...   \n",
       "1           1  https://books.toscrape.com/catalogue/tipping-t...   \n",
       "2           2  https://books.toscrape.com/catalogue/soumissio...   \n",
       "3           3  https://books.toscrape.com/catalogue/sharp-obj...   \n",
       "4           4  https://books.toscrape.com/catalogue/sapiens-a...   \n",
       "\n",
       "                                   title  \\\n",
       "0                   A Light in the Attic   \n",
       "1                     Tipping the Velvet   \n",
       "2                             Soumission   \n",
       "3                          Sharp Objects   \n",
       "4  Sapiens: A Brief History of Humankind   \n",
       "\n",
       "                                             imglink rating    price     stock  \n",
       "0  https://books.toscrape.com/../media/cache/2c/d...  Three  Â£51.77  In stock  \n",
       "1  https://books.toscrape.com/../media/cache/26/0...    One  Â£53.74  In stock  \n",
       "2  https://books.toscrape.com/../media/cache/3e/e...    One  Â£50.10  In stock  \n",
       "3  https://books.toscrape.com/../media/cache/32/5...   Four  Â£47.82  In stock  \n",
       "4  https://books.toscrape.com/../media/cache/be/a...   Five  Â£54.23  In stock  "
      ]
     },
     "execution_count": 199,
     "metadata": {},
     "output_type": "execute_result"
    }
   ],
   "source": [
    "data=pd.read_csv('bookscrapper2.csv')\n",
    "\n",
    "data.head()"
   ]
  },
  {
   "cell_type": "code",
   "execution_count": null,
   "id": "4da9bd8f",
   "metadata": {},
   "outputs": [],
   "source": [
    "newlist=[]\n",
    "for link in tqdm(data['booklink']):\n",
    "    res=requests.get(link)\n",
    "    soup=BeautifulSoup(res.text,'html.parser')\n",
    "    \n",
    "    typ=soup.find('ul',class_='breadcrumb').find_all('a')[2].text\n",
    "    temp=soup.find('table',class_='table table-striped').find_all('td')\n",
    "    upc=temp[0].text\n",
    "    price_x=temp[2].text[2:]\n",
    "    price_i=temp[3].text[2:]\n",
    "    tax=temp[4].text[2:]\n",
    "    quantity=temp[5].text\n",
    "    reviews=temp[6].text\n",
    "    newlist.append([typ,price_x,price_i,upc,tax,quantity,reviews])\n",
    "    break"
   ]
  },
  {
   "cell_type": "code",
   "execution_count": 202,
   "id": "d852f57a",
   "metadata": {},
   "outputs": [],
   "source": [
    "dataframe=pd.DataFrame(newlist,columns=['typ','price_x','price_i','upc','tax','quantity','reviews'])\n",
    "dataframe.to_csv('bookscrapper individual page.csv')"
   ]
  },
  {
   "cell_type": "code",
   "execution_count": null,
   "id": "0b2b0f49",
   "metadata": {},
   "outputs": [],
   "source": []
  }
 ],
 "metadata": {
  "kernelspec": {
   "display_name": "Python 3 (ipykernel)",
   "language": "python",
   "name": "python3"
  },
  "language_info": {
   "codemirror_mode": {
    "name": "ipython",
    "version": 3
   },
   "file_extension": ".py",
   "mimetype": "text/x-python",
   "name": "python",
   "nbconvert_exporter": "python",
   "pygments_lexer": "ipython3",
   "version": "3.10.9"
  }
 },
 "nbformat": 4,
 "nbformat_minor": 5
}
